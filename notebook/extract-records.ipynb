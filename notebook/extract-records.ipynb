{
 "cells": [
  {
   "cell_type": "code",
   "execution_count": 3,
   "metadata": {},
   "outputs": [],
   "source": [
    "import pathlib\n",
    "import re"
   ]
  },
  {
   "cell_type": "markdown",
   "metadata": {},
   "source": [
    "## Load the Data"
   ]
  },
  {
   "cell_type": "code",
   "execution_count": 4,
   "metadata": {},
   "outputs": [],
   "source": [
    "path = pathlib.Path.cwd() / 'excerpt-p17.txt'"
   ]
  },
  {
   "cell_type": "code",
   "execution_count": 5,
   "metadata": {},
   "outputs": [],
   "source": [
    "with open(path, mode='r', encoding='utf-16-le') as fid:\n",
    "    lines = [line for line in fid]"
   ]
  },
  {
   "cell_type": "markdown",
   "metadata": {},
   "source": [
    "## Extract Fields"
   ]
  },
  {
   "cell_type": "code",
   "execution_count": 6,
   "metadata": {},
   "outputs": [],
   "source": [
    "class Record:\n",
    "    \"\"\"\n",
    "    A simple data class containing fields for each extracted line\n",
    "    \"\"\"\n",
    "    def __init__(self, dept, name, title, state, dist, salary):\n",
    "        self.dept, self.name, self.title, self.state, self.dist, self.salary = \\\n",
    "            dept, name, title, state, dist, salary\n",
    "    \n",
    "    def __str__(self):\n",
    "        return f\"DEPT: {self.dept}\\nNAME: {self.name}\\nTITLE: {self.title}\\nSTATE: {self.state}\\nDIST: {self.dist}\\nSALARY: {self.salary}\"\n",
    "    \n",
    "    def to_dict(self):\n",
    "        return {\n",
    "            'dept':self.dept,\n",
    "            'name':self.name,\n",
    "            'title':self.title,\n",
    "            'state':self.state,\n",
    "            'dist':self.dist,\n",
    "            'salary':self.salary\n",
    "        }\n"
   ]
  },
  {
   "cell_type": "code",
   "execution_count": 7,
   "metadata": {},
   "outputs": [],
   "source": [
    "dept_regex      = r\"^\\s+([A-Z ]+)\\s+$\"\n",
    "name_regex      = r\"^\\s?([A-Z0]\\.?[a-z]*(?:\\s[A-Z0]\\.?[a-z]*){1,3}(?:,\\s*jr)?)\"\n",
    "title_regex     = r\"^\\s+((?:[A-Z][a-z]{2,},?)(?:\\s[A-z]+\\'?,?)*)\"\n",
    "state_regex     = r\"^\\s+([A-Z][a-z\\.]{0,3}(?:\\s?[A-Z][a-z\\.]{0,3})?)\"\n",
    "dist_regex      = r\"([0-9]{1,2}(?:d|th|st))\"\n",
    "salary_regex    = r\"([1-9]0?(?:,\\s?)?[0-9]{2,3})\""
   ]
  },
  {
   "cell_type": "code",
   "execution_count": 8,
   "metadata": {},
   "outputs": [],
   "source": [
    "records = []\n",
    "dept = None\n",
    "for line in lines:\n",
    "    dept_match = re.match(dept_regex, line, re.MULTILINE)\n",
    "    if dept_match: \n",
    "        dept = dept_match.group(1)\n",
    "        continue\n",
    "    name, title, state, dist, salary = None, None, None, None, None\n",
    "    name_match = re.match(name_regex, line, re.MULTILINE)\n",
    "    if name_match:\n",
    "        name = name_match.group(1)\n",
    "        line = line[name_match.end(1):]\n",
    "        title_match = re.match(title_regex, line, re.MULTILINE)\n",
    "        if title_match:\n",
    "            title = title_match.group(1)\n",
    "            line = line[title_match.end(1):]\n",
    "        state_match = re.match(state_regex, line, re.MULTILINE)\n",
    "        if state_match:\n",
    "            state = state_match.group(1)\n",
    "            state = re.sub(r\"[\\. ]\", '', state)\n",
    "            state = state.upper()\n",
    "            line = line[state_match.end(1):]\n",
    "        dist_match = re.search(dist_regex, line)\n",
    "        if dist_match:\n",
    "            dist = dist_match.group(1)\n",
    "            line = line[dist_match.end(1):]\n",
    "        salary_match = re.search(salary_regex, line)\n",
    "        if salary_match:\n",
    "            salary = salary_match.group(1)\n",
    "            salary = int(re.sub(r\"[, ]\", '', salary))\n",
    "\n",
    "        records.append(Record(dept=dept, name=name, title=title,\n",
    "                              state=state, dist=dist, salary=salary))"
   ]
  },
  {
   "cell_type": "markdown",
   "metadata": {},
   "source": [
    "## Normalize States"
   ]
  },
  {
   "cell_type": "code",
   "execution_count": 9,
   "metadata": {},
   "outputs": [],
   "source": [
    "import textdistance as td\n",
    "\n",
    "states = {\"AK\":\"AK\",\"AL\":\"AL\",\"AZ\":\"AZ\",\"AR\":\"AR\",\"CA\":\"CA\",\"CO\":\"CO\",\"CT\":\"CT\",\"DE\":\"DE\",\"FL\":\"FL\",\"GA\":\"GA\",\"HI\":\"HI\",\"ID\":\"ID\",\"IL\":\"IL\",\"IN\":\"IN\",\"IA\":\"IA\",\"KS\":\"KS\",\"KY\":\"KY\",\"LA\":\"LA\"\\\n",
    ",\"ME\":\"ME\",\"MD\":\"MD\",\"MA\":\"MA\",\"MI\":\"MI\",\"MN\":\"MN\",\"MS\":\"MS\",\"MO\":\"MO\",\"MT\":\"MT\",\"NE\":\"NE\",\"NV\":\"NV\",\"NH\":\"NH\",\"NJ\":\"NJ\",\"NM\":\"NM\",\"NY\":\"NY\",\"NC\":\"NC\",\"ND\":\"ND\",\"OH\":\"OH\",\"OK\":\"O\\\n",
    "K\",\"OR\":\"OR\",\"PA\":\"PA\",\"RI\":\"RI\",\"SC\":\"SC\",\"SD\":\"SD\",\"TN\":\"TN\",\"TX\":\"TX\",\"UT\":\"UT\",\"VT\":\"VT\",\"VA\":\"VA\",\"WA\":\"WA\",\"WV\":\"WV\",\"WI\":\"WI\",\"WY\":\"WY\"}\n",
    "\n",
    "states['DC'] = 'DC'\n",
    "states['MASS'] = 'MA'\n",
    "states['IOWA'] = 'IA'\n",
    "states['OHIO'] = 'OH'\n",
    "states['IND'] = 'IN'\n",
    "states['NDAK'] = 'ND'\n",
    "states['SDAK'] = 'SD'\n",
    "states['CALIF'] = 'CA'\n",
    "states['D'] = 'DC'\n",
    "\n",
    "state_keys = list(states.keys())"
   ]
  },
  {
   "cell_type": "code",
   "execution_count": 10,
   "metadata": {},
   "outputs": [],
   "source": [
    "for rec in records:\n",
    "    if rec.state:\n",
    "        state = rec.state\n",
    "        l = [td.levenshtein(s, rec.state) for s in state_keys]\n",
    "        rec.state = states[state_keys[l.index(min(l))]]"
   ]
  },
  {
   "cell_type": "markdown",
   "metadata": {},
   "source": [
    "## Export to CSV file"
   ]
  },
  {
   "cell_type": "code",
   "execution_count": 11,
   "metadata": {},
   "outputs": [],
   "source": [
    "import csv\n",
    "fieldnames = ['dept', 'name', 'title', 'state', 'dist', 'salary']\n",
    "with open('records.csv', 'w', newline='') as csvfile:\n",
    "    writer = csv.DictWriter(csvfile, delimiter=',', \n",
    "                            quotechar='\"', quoting=csv.QUOTE_ALL, \n",
    "                            fieldnames=fieldnames)\n",
    "    writer.writeheader()\n",
    "    for rec in records:\n",
    "        writer.writerow(rec.to_dict())"
   ]
  }
 ],
 "metadata": {
  "kernelspec": {
   "display_name": "Python 3",
   "language": "python",
   "name": "python3"
  },
  "language_info": {
   "codemirror_mode": {
    "name": "ipython",
    "version": 3
   },
   "file_extension": ".py",
   "mimetype": "text/x-python",
   "name": "python",
   "nbconvert_exporter": "python",
   "pygments_lexer": "ipython3",
   "version": "3.6.8"
  }
 },
 "nbformat": 4,
 "nbformat_minor": 2
}
