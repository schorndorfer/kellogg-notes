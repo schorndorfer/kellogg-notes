{
 "cells": [
  {
   "cell_type": "code",
   "execution_count": 3,
   "metadata": {},
   "outputs": [],
   "source": [
    "import spacy\n",
    "import textacy\n",
    "import pathlib"
   ]
  },
  {
   "cell_type": "code",
   "execution_count": 4,
   "metadata": {},
   "outputs": [],
   "source": [
    "nlp = spacy.load('en')"
   ]
  },
  {
   "cell_type": "code",
   "execution_count": 7,
   "metadata": {},
   "outputs": [],
   "source": [
    "path = pathlib.Path.cwd() / 'excerpt-p17.txt'\n",
    "text = path.read_text(encoding='utf-16-le')"
   ]
  },
  {
   "cell_type": "code",
   "execution_count": 13,
   "metadata": {},
   "outputs": [],
   "source": [
    "doc = nlp(text)"
   ]
  },
  {
   "cell_type": "code",
   "execution_count": 18,
   "metadata": {},
   "outputs": [
    {
     "name": "stdout",
     "output_type": "stream",
     "text": [
      "﻿ ﻿\n",
      "                                   \n",
      "Official official\n",
      "Register register\n",
      "of of\n",
      "the the\n",
      "United united\n",
      "States states\n",
      ", ,\n",
      "1929 1929\n"
     ]
    }
   ],
   "source": [
    "for token in doc[:10]:\n",
    "    print(token.text)"
   ]
  },
  {
   "cell_type": "code",
   "execution_count": 28,
   "metadata": {},
   "outputs": [
    {
     "name": "stdout",
     "output_type": "stream",
     "text": [
      "PERSON: ﻿\n",
      "PERSON: 7\n",
      "PERSON: Cong\n",
      "PERSON: George H. Carter\n",
      "PERSON: John Greene\n",
      "PERSON: Public Printer\n",
      "PERSON: 5th\n",
      "PERSON: Mary A. Tate\n",
      "PERSON: 4\n",
      "PERSON: Henry H. Wright\n",
      "PERSON: N.\n"
     ]
    }
   ],
   "source": [
    "for ent in doc.ents[:30]:\n",
    "    if ent.label_ == 'PERSON':\n",
    "        print(f\"{ent.label_}: {ent.text.strip()}\")"
   ]
  },
  {
   "cell_type": "code",
   "execution_count": null,
   "metadata": {},
   "outputs": [],
   "source": []
  }
 ],
 "metadata": {
  "kernelspec": {
   "display_name": "Python 3",
   "language": "python",
   "name": "python3"
  },
  "language_info": {
   "codemirror_mode": {
    "name": "ipython",
    "version": 3
   },
   "file_extension": ".py",
   "mimetype": "text/x-python",
   "name": "python",
   "nbconvert_exporter": "python",
   "pygments_lexer": "ipython3",
   "version": "3.6.8"
  }
 },
 "nbformat": 4,
 "nbformat_minor": 2
}
