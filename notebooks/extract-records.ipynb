{
 "cells": [
  {
   "cell_type": "code",
   "execution_count": 1,
   "metadata": {},
   "outputs": [],
   "source": [
    "import pathlib\n",
    "import re"
   ]
  },
  {
   "cell_type": "markdown",
   "metadata": {},
   "source": [
    "## Load the Data"
   ]
  },
  {
   "cell_type": "code",
   "execution_count": 2,
   "metadata": {},
   "outputs": [],
   "source": [
    "path = pathlib.Path.cwd() / 'excerpt-p17.txt'"
   ]
  },
  {
   "cell_type": "code",
   "execution_count": 3,
   "metadata": {},
   "outputs": [],
   "source": [
    "with open(path, mode='r', encoding='utf-16-le') as fid:\n",
    "    lines = [line for line in fid]"
   ]
  },
  {
   "cell_type": "markdown",
   "metadata": {},
   "source": [
    "## Extract Fields"
   ]
  },
  {
   "cell_type": "markdown",
   "metadata": {},
   "source": [
    "https://regex101.com/"
   ]
  },
  {
   "cell_type": "code",
   "execution_count": 4,
   "metadata": {},
   "outputs": [],
   "source": [
    "class Record:\n",
    "    \"\"\"\n",
    "    A simple data class containing fields for each extracted line\n",
    "    \"\"\"\n",
    "    def __init__(self, dept, name, title, state, dist, salary):\n",
    "        self.dept, self.name, self.title, self.state, self.dist, self.salary = \\\n",
    "            dept, name, title, state, dist, salary\n",
    "    \n",
    "    def __str__(self):\n",
    "        return f\"DEPT: {self.dept}\\nNAME: {self.name}\\nTITLE: {self.title}\\nSTATE: {self.state}\\nDIST: {self.dist}\\nSALARY: {self.salary}\"\n",
    "    \n",
    "    def to_dict(self):\n",
    "        return {\n",
    "            'dept':self.dept,\n",
    "            'name':self.name,\n",
    "            'title':self.title,\n",
    "            'state':self.state,\n",
    "            'dist':self.dist,\n",
    "            'salary':self.salary\n",
    "        }"
   ]
  },
  {
   "cell_type": "code",
   "execution_count": 5,
   "metadata": {},
   "outputs": [],
   "source": [
    "dept_regex      = r\"^\\s+([A-Z ]+)\\s+$\"\n",
    "name_regex      = r\"^\\s?([A-Z0]\\.?[a-z]*(?:\\s[A-Z0]\\.?[a-z]*){1,3}(?:,\\s*jr)?)\"\n",
    "title_regex     = r\"^\\s+((?:[A-Z][a-z]{2,},?)(?:\\s[A-z]+\\'?,?)*)\"\n",
    "state_regex     = r\"^\\s+([A-Z][a-z\\.]{0,3}(?:\\s?[A-Z][a-z\\.]{0,3})?)\"\n",
    "dist_regex      = r\"([0-9]{1,2}(?:d|th|st))\"\n",
    "salary_regex    = r\"([1-9]0?(?:,\\s?)?[0-9]{2,3})\""
   ]
  },
  {
   "cell_type": "code",
   "execution_count": 6,
   "metadata": {},
   "outputs": [],
   "source": [
    "# will contain collected records extracted from text\n",
    "records = []\n",
    "\n",
    "# initialize dept variable\n",
    "dept = None\n",
    "\n",
    "# iterate through lines of text\n",
    "for line in lines:\n",
    "    \n",
    "    # Look for a department match\n",
    "    dept_match = re.match(dept_regex, line, re.MULTILINE)\n",
    "    if dept_match: \n",
    "        dept = dept_match.group(1)\n",
    "        continue\n",
    "    \n",
    "    # Look for a row to extract a record. Every such row begins with a name,\n",
    "    # so if we get a name match, we'll look for the other pieces of information\n",
    "    name, title, state, dist, salary = None, None, None, None, None\n",
    "    \n",
    "    # 1: Name match\n",
    "    name_match = re.match(name_regex, line, re.MULTILINE)\n",
    "    if name_match:\n",
    "        name = name_match.group(1)\n",
    "        line = line[name_match.end(1):]\n",
    "        \n",
    "        # 2: Title match\n",
    "        title_match = re.match(title_regex, line, re.MULTILINE)\n",
    "        if title_match:\n",
    "            title = title_match.group(1)\n",
    "            line = line[title_match.end(1):]\n",
    "            \n",
    "        # 3: State match\n",
    "        state_match = re.match(state_regex, line, re.MULTILINE)\n",
    "        if state_match:\n",
    "            state = state_match.group(1)\n",
    "            state = re.sub(r\"[\\. ]\", '', state)\n",
    "            state = state.upper()\n",
    "            line = line[state_match.end(1):]\n",
    "        \n",
    "        # 4: District match\n",
    "        dist_match = re.search(dist_regex, line)\n",
    "        if dist_match:\n",
    "            dist = dist_match.group(1)\n",
    "            line = line[dist_match.end(1):]\n",
    "            \n",
    "        # 5: Salary match\n",
    "        salary_match = re.search(salary_regex, line)\n",
    "        if salary_match:\n",
    "            salary = salary_match.group(1)\n",
    "            salary = int(re.sub(r\"[, ]\", '', salary))\n",
    "\n",
    "        # Append the new record to the list of records\n",
    "        records.append(Record(dept=dept, \n",
    "                              name=name, \n",
    "                              title=title,\n",
    "                              state=state, \n",
    "                              dist=dist, \n",
    "                              salary=salary))"
   ]
  },
  {
   "cell_type": "markdown",
   "metadata": {},
   "source": [
    "## Normalize state abbreviations with string distance"
   ]
  },
  {
   "cell_type": "markdown",
   "metadata": {},
   "source": [
    "https://phiresky.github.io/levenshtein-demo/"
   ]
  },
  {
   "cell_type": "code",
   "execution_count": 7,
   "metadata": {},
   "outputs": [],
   "source": [
    "# list of state abbreviations\n",
    "state_abbrevs = [\"AK\",\"AL\",\"AZ\",\"AR\",\"CA\",\"CO\",\"CT\",\"DE\",\"FL\",\"GA\",\"HI\",\"ID\",\"IL\",\"IN\",\"IA\",\"KS\",\"KY\",\"LA\",\"ME\",\"MD\",\"MA\",\"MI\",\"MN\",\"MS\",\"MO\",\"MT\",\"NE\",\"NV\",\"NH\",\"NJ\",\"NM\",\"NY\",\"NC\",\"ND\",\"OH\",\"\\\n",
    "OK\",\"OR\",\"PA\",\"RI\",\"SC\",\"SD\",\"TN\",\"TX\",\"UT\",\"VT\",\"VA\",\"WA\",\"WV\",\"WI\",\"WY\"]\n",
    "\n",
    "# turn into a dictionary\n",
    "states = {s:s for s in state_abbrevs}\n",
    "\n",
    "# add some entries derived from dataset\n",
    "states['DC'] = 'DC'\n",
    "states['MASS'] = 'MA'\n",
    "states['IOWA'] = 'IA'\n",
    "states['OHIO'] = 'OH'\n",
    "states['IND'] = 'IN'\n",
    "states['NDAK'] = 'ND'\n",
    "states['SDAK'] = 'SD'\n",
    "states['CALIF'] = 'CA'\n",
    "states['D'] = 'DC'\n",
    "\n",
    "# extract the keys\n",
    "state_keys = list(states.keys())"
   ]
  },
  {
   "cell_type": "code",
   "execution_count": 8,
   "metadata": {},
   "outputs": [],
   "source": [
    "import textdistance as td\n",
    "\n",
    "# use the textdistance package to get closest match\n",
    "for rec in records:\n",
    "    if rec.state:\n",
    "        l = [td.levenshtein(s, rec.state) for s in state_keys]\n",
    "        rec.state = states[state_keys[l.index(min(l))]]"
   ]
  },
  {
   "cell_type": "markdown",
   "metadata": {},
   "source": [
    "## Create a Dataframe"
   ]
  },
  {
   "cell_type": "code",
   "execution_count": 9,
   "metadata": {},
   "outputs": [],
   "source": [
    "import pandas as pd\n",
    "import matplotlib.pyplot as plt\n",
    "%matplotlib inline"
   ]
  },
  {
   "cell_type": "code",
   "execution_count": 10,
   "metadata": {},
   "outputs": [],
   "source": [
    "dict_rows = [rec.to_dict() for rec in records]\n",
    "df = pd.DataFrame(dict_rows)"
   ]
  },
  {
   "cell_type": "code",
   "execution_count": 11,
   "metadata": {},
   "outputs": [
    {
     "data": {
      "text/html": [
       "<div>\n",
       "<style scoped>\n",
       "    .dataframe tbody tr th:only-of-type {\n",
       "        vertical-align: middle;\n",
       "    }\n",
       "\n",
       "    .dataframe tbody tr th {\n",
       "        vertical-align: top;\n",
       "    }\n",
       "\n",
       "    .dataframe thead th {\n",
       "        text-align: right;\n",
       "    }\n",
       "</style>\n",
       "<table border=\"1\" class=\"dataframe\">\n",
       "  <thead>\n",
       "    <tr style=\"text-align: right;\">\n",
       "      <th></th>\n",
       "      <th>dept</th>\n",
       "      <th>dist</th>\n",
       "      <th>name</th>\n",
       "      <th>salary</th>\n",
       "      <th>state</th>\n",
       "      <th>title</th>\n",
       "    </tr>\n",
       "  </thead>\n",
       "  <tbody>\n",
       "    <tr>\n",
       "      <th>0</th>\n",
       "      <td>GOVERNMENT PRINTING OFFICE</td>\n",
       "      <td>9th</td>\n",
       "      <td>George H. Carter</td>\n",
       "      <td>10000</td>\n",
       "      <td>IA</td>\n",
       "      <td>Public Printer</td>\n",
       "    </tr>\n",
       "    <tr>\n",
       "      <th>1</th>\n",
       "      <td>GOVERNMENT PRINTING OFFICE</td>\n",
       "      <td>5th</td>\n",
       "      <td>John Greene</td>\n",
       "      <td>7500</td>\n",
       "      <td>MA</td>\n",
       "      <td>Deputy Public Printer</td>\n",
       "    </tr>\n",
       "    <tr>\n",
       "      <th>2</th>\n",
       "      <td>GOVERNMENT PRINTING OFFICE</td>\n",
       "      <td>2d</td>\n",
       "      <td>Mary A. Tate</td>\n",
       "      <td>4000</td>\n",
       "      <td>TN</td>\n",
       "      <td>Assistant to the Public Printer</td>\n",
       "    </tr>\n",
       "    <tr>\n",
       "      <th>3</th>\n",
       "      <td>GOVERNMENT PRINTING OFFICE</td>\n",
       "      <td>28th</td>\n",
       "      <td>Henry H. Wright</td>\n",
       "      <td>4200</td>\n",
       "      <td>NY</td>\n",
       "      <td>Chief clerk</td>\n",
       "    </tr>\n",
       "    <tr>\n",
       "      <th>4</th>\n",
       "      <td>GOVERNMENT PRINTING OFFICE</td>\n",
       "      <td>16th</td>\n",
       "      <td>Edward J. Wilver</td>\n",
       "      <td>4000</td>\n",
       "      <td>PA</td>\n",
       "      <td>Disbursing clerk</td>\n",
       "    </tr>\n",
       "  </tbody>\n",
       "</table>\n",
       "</div>"
      ],
      "text/plain": [
       "                         dept  dist              name  salary state  \\\n",
       "0  GOVERNMENT PRINTING OFFICE   9th  George H. Carter   10000    IA   \n",
       "1  GOVERNMENT PRINTING OFFICE   5th       John Greene    7500    MA   \n",
       "2  GOVERNMENT PRINTING OFFICE    2d      Mary A. Tate    4000    TN   \n",
       "3  GOVERNMENT PRINTING OFFICE  28th   Henry H. Wright    4200    NY   \n",
       "4  GOVERNMENT PRINTING OFFICE  16th  Edward J. Wilver    4000    PA   \n",
       "\n",
       "                             title  \n",
       "0                   Public Printer  \n",
       "1            Deputy Public Printer  \n",
       "2  Assistant to the Public Printer  \n",
       "3                      Chief clerk  \n",
       "4                 Disbursing clerk  "
      ]
     },
     "execution_count": 11,
     "metadata": {},
     "output_type": "execute_result"
    }
   ],
   "source": [
    "df.head()"
   ]
  },
  {
   "cell_type": "code",
   "execution_count": 12,
   "metadata": {},
   "outputs": [
    {
     "data": {
      "text/plain": [
       "<matplotlib.axes._subplots.AxesSubplot at 0x7f14121a3128>"
      ]
     },
     "execution_count": 12,
     "metadata": {},
     "output_type": "execute_result"
    },
    {
     "data": {
      "image/png": "[encoded data removed]",
      "text/plain": [
       "<Figure size 720x360 with 1 Axes>"
      ]
     },
     "metadata": {
      "needs_background": "light"
     },
     "output_type": "display_data"
    }
   ],
   "source": [
    "plt.rcParams['figure.figsize'] = [10, 5]\n",
    "df.groupby(['state'])['name'].count().plot.bar(x='state')"
   ]
  },
  {
   "cell_type": "code",
   "execution_count": 13,
   "metadata": {},
   "outputs": [
    {
     "data": {
      "text/plain": [
       "<matplotlib.axes._subplots.AxesSubplot at 0x7f14100b3828>"
      ]
     },
     "execution_count": 13,
     "metadata": {},
     "output_type": "execute_result"
    },
    {
     "data": {
      "image/png": "[encoded data removed]",
      "text/plain": [
       "<Figure size 720x360 with 1 Axes>"
      ]
     },
     "metadata": {
      "needs_background": "light"
     },
     "output_type": "display_data"
    }
   ],
   "source": [
    "df.groupby(['state'])['salary'].mean().plot.bar(x='salary')"
   ]
  },
  {
   "cell_type": "code",
   "execution_count": 14,
   "metadata": {},
   "outputs": [],
   "source": [
    "df.to_csv('records.csv', sep=',', index=False, encoding='utf-8')"
   ]
  },
  {
   "cell_type": "markdown",
   "metadata": {},
   "source": [
    "## Pattern Matching with spaCy"
   ]
  },
  {
   "cell_type": "markdown",
   "metadata": {},
   "source": [
    "https://spacy.io/"
   ]
  },
  {
   "cell_type": "markdown",
   "metadata": {},
   "source": [
    "https://explosion.ai/demos/"
   ]
  },
  {
   "cell_type": "code",
   "execution_count": 15,
   "metadata": {},
   "outputs": [],
   "source": [
    "import spacy\n",
    "from spacy.matcher import Matcher\n",
    "from spacy import displacy\n",
    "import pathlib"
   ]
  },
  {
   "cell_type": "code",
   "execution_count": 16,
   "metadata": {},
   "outputs": [],
   "source": [
    "nlp = spacy.load('en')"
   ]
  },
  {
   "cell_type": "code",
   "execution_count": 17,
   "metadata": {},
   "outputs": [],
   "source": [
    "excerpt_text = (pathlib.Path.cwd() / 'excerpt-p17.txt').read_text(encoding='utf-16-le')"
   ]
  },
  {
   "cell_type": "code",
   "execution_count": 18,
   "metadata": {},
   "outputs": [],
   "source": [
    "excerpt_doc = nlp(excerpt_text)"
   ]
  },
  {
   "cell_type": "code",
   "execution_count": 19,
   "metadata": {},
   "outputs": [
    {
     "name": "stdout",
     "output_type": "stream",
     "text": [
      "GOVERNMENT PRINTING OFFICE (13, 16)\n",
      "LIBRARY OF CONGRESS (449, 452)\n",
      "UNITED STATES BOTANIC GARDEN (1113, 1117)\n"
     ]
    }
   ],
   "source": [
    "matcher = Matcher(nlp.vocab)\n",
    "pattern = [{'IS_UPPER': True, 'IS_ALPHA': True, 'OP': '+'}, \n",
    "           {'IS_UPPER': True, 'IS_ALPHA': True, 'OP': '+'},\n",
    "           {'IS_UPPER': True, 'IS_ALPHA': True, 'OP': '+'},\n",
    "          ]\n",
    "matcher.add('upper_seq', None, pattern)\n",
    "\n",
    "matches = matcher(excerpt_doc)\n",
    "for _, start, end in matches:\n",
    "    span = excerpt_doc[start:end]\n",
    "    if len(span.text) > 10 and excerpt_doc[start-1].is_space and excerpt_doc[end].is_space:\n",
    "        print(f\"{span.text} ({start}, {end})\")"
   ]
  },
  {
   "cell_type": "markdown",
   "metadata": {},
   "source": [
    "## spaCy with more fluent text"
   ]
  },
  {
   "cell_type": "code",
   "execution_count": 20,
   "metadata": {},
   "outputs": [],
   "source": [
    "radiology_text = (pathlib.Path.cwd() / 'radiology.txt').read_text()"
   ]
  },
  {
   "cell_type": "code",
   "execution_count": 21,
   "metadata": {},
   "outputs": [
    {
     "name": "stdout",
     "output_type": "stream",
     "text": [
      "HISTORY:\n",
      "TRAUMA, ASSESS FOR HEMORRHAGE\n",
      "REPORT\n",
      "HISTORY: As above.\n",
      "COMPARISON: No relevant prior examinations available.\n",
      "TECHNIQUE: Head CT without contrast.\n",
      "FINDINGS:\n",
      "There is a predominantly hyperdense extra axial collection layering over the left cerebral\n",
      "convexity and left tentorium, consistent with a subdural hematoma. The component overlying the\n",
      "left cerebral convexity measures 11-mm and the tentorial component measures 15-mm.\n",
      "There is associated mass effect with effacement of the adjacent left cerebral sulci and left lateral\n",
      "ventricle and 6-mm of rightward midline shift. There is mild subfalcine herniation. There is no\n",
      "uncal herniation. There is also a small amount of subdural hemorrhage along the falx and right\n",
      "tentorium.\n",
      "There is hypodensity in the periventricular and subcortical white matter, a nonspecific finding\n",
      "that is often seen in patients with microangiopathic changes. The brain parenchyma is otherwise\n",
      "unremarkable. There is no evidence of intracranial mass lesion, acute infarction.\n",
      "There is scattered mucosal thickening of the paranasal sinuses. The bilateral mastoid air cells are\n",
      "well aerated and clear. A prosthesis is noted in the right globe.\n",
      "There is a large posterior subgaleal hematoma. No fracture is identified.\n",
      "IMPRESSION:\n",
      "Predominantly hyperdense subdural hematoma layering over the left cerebral convexity and left\n",
      "tentorium, measuring up to 15 mm in greatest diameter. There is also a small amount of\n",
      "subdural hemorrhage along the right tentorium and the falx. There is associated mass effect with\n",
      "6-mm of rightward midline shift and mild subfalcine herniation.\n",
      "Nonspecific white matter hypoattenuation, likely representing microangiopathic changes.\n",
      "\n"
     ]
    }
   ],
   "source": [
    "print(radiology_text)"
   ]
  },
  {
   "cell_type": "code",
   "execution_count": 22,
   "metadata": {},
   "outputs": [],
   "source": [
    "radiology_doc = nlp(radiology_text)"
   ]
  },
  {
   "cell_type": "code",
   "execution_count": 23,
   "metadata": {},
   "outputs": [
    {
     "name": "stdout",
     "output_type": "stream",
     "text": [
      "[SENT]: HISTORY:\n",
      "TRAUMA, ASSESS FOR HEMORRHAGE\n",
      "REPORT\n",
      "HISTORY:\n",
      "[SENT]: As above.\n",
      "\n",
      "[SENT]: COMPARISON:\n",
      "[SENT]: No relevant prior examinations available.\n",
      "\n",
      "[SENT]: TECHNIQUE: Head CT without contrast.\n",
      "\n",
      "[SENT]: FINDINGS:\n",
      "\n",
      "[SENT]: There is a predominantly hyperdense extra axial collection layering over the left cerebral\n",
      "convexity and left tentorium, consistent with a subdural hematoma.\n",
      "[SENT]: The component overlying the\n",
      "left cerebral convexity measures 11-mm and the tentorial component measures 15-mm.\n",
      "\n",
      "[SENT]: There is associated mass effect with effacement of the adjacent left cerebral sulci and left lateral\n",
      "ventricle and 6-mm of rightward midline shift.\n",
      "[SENT]: There is mild subfalcine herniation.\n",
      "[SENT]: There is no\n",
      "uncal herniation.\n",
      "[SENT]: There is also a small amount of subdural hemorrhage along the falx and right\n",
      "tentorium.\n",
      "\n",
      "[SENT]: There is hypodensity in the periventricular and subcortical white matter, a nonspecific finding\n",
      "that is often seen in patients with microangiopathic changes.\n",
      "[SENT]: The brain parenchyma is otherwise\n",
      "unremarkable.\n",
      "[SENT]: There is no evidence of intracranial mass lesion, acute infarction.\n",
      "\n",
      "[SENT]: There is scattered mucosal thickening of the paranasal sinuses.\n",
      "[SENT]: The bilateral mastoid air cells are\n",
      "well aerated and clear.\n",
      "[SENT]: A prosthesis is noted in the right globe.\n",
      "\n",
      "[SENT]: There is a large posterior subgaleal hematoma.\n",
      "[SENT]: No fracture is identified.\n",
      "\n",
      "[SENT]: IMPRESSION:\n",
      "\n",
      "[SENT]: Predominantly hyperdense subdural hematoma layering over the left cerebral convexity and left\n",
      "tentorium, measuring up to 15 mm in greatest diameter.\n",
      "[SENT]: There is also a small amount of\n",
      "subdural hemorrhage along the right tentorium and the falx.\n",
      "[SENT]: There is associated mass effect with\n",
      "6-mm of rightward midline shift and mild subfalcine herniation.\n",
      "\n",
      "[SENT]: Nonspecific white matter hypoattenuation, likely representing microangiopathic changes.\n",
      "\n"
     ]
    }
   ],
   "source": [
    "sents = list(radiology_doc.sents)\n",
    "for sent in sents:\n",
    "    print(f\"[SENT]: {sent.text}\")"
   ]
  },
  {
   "cell_type": "code",
   "execution_count": 24,
   "metadata": {},
   "outputs": [
    {
     "name": "stdout",
     "output_type": "stream",
     "text": [
      "HISTORY\n",
      "TRAUMA\n",
      "HEMORRHAGE\n",
      "REPORT\n",
      "COMPARISON\n",
      "No relevant prior examinations\n",
      "TECHNIQUE\n",
      "Head CT\n",
      "contrast\n",
      "FINDINGS\n",
      "a predominantly hyperdense extra axial collection\n",
      "the left cerebral\n",
      "convexity and left tentorium\n",
      "a subdural hematoma\n",
      "The component\n",
      "cerebral convexity measures\n",
      "associated mass effect\n",
      "effacement\n",
      "lateral\n",
      "ventricle\n",
      "rightward midline shift\n",
      "mild subfalcine herniation\n",
      "no\n",
      "uncal herniation\n",
      "a small amount\n",
      "subdural hemorrhage\n",
      "the falx\n",
      "tentorium\n",
      "hypodensity\n",
      "the periventricular and subcortical white matter\n",
      "a nonspecific finding\n",
      "patients\n",
      "microangiopathic changes\n",
      "The brain parenchyma\n",
      "no evidence\n",
      "intracranial mass lesion\n",
      "acute infarction\n",
      "scattered mucosal thickening\n",
      "the paranasal sinuses\n",
      "The bilateral mastoid air cells\n",
      "A prosthesis\n",
      "the right globe\n",
      "a large posterior subgaleal hematoma\n",
      "No fracture\n",
      "IMPRESSION\n",
      "Predominantly hyperdense\n",
      "subdural hematoma\n",
      "the left cerebral convexity\n",
      "up to 15 mm\n",
      "greatest diameter\n",
      "a small amount\n",
      "subdural hemorrhage\n",
      "the right tentorium\n",
      "the falx\n",
      "associated mass effect\n",
      "rightward midline shift\n",
      "mild subfalcine herniation\n",
      "Nonspecific white matter hypoattenuation\n",
      "microangiopathic changes\n"
     ]
    }
   ],
   "source": [
    "for nc in radiology_doc.noun_chunks:\n",
    "    print(nc)"
   ]
  },
  {
   "cell_type": "code",
   "execution_count": 25,
   "metadata": {},
   "outputs": [
    {
     "name": "stdout",
     "output_type": "stream",
     "text": [
      "There is mild subfalcine herniation.\n"
     ]
    },
    {
     "data": {
      "text/html": [
       "<svg xmlns=\"http://www.w3.org/2000/svg\" xmlns:xlink=\"http://www.w3.org/1999/xlink\" id=\"66-0\" class=\"displacy\" width=\"925\" height=\"399.5\" style=\"max-width: none; height: 399.5px; color: #000000; background: #ffffff; font-family: Arial\">\n",
       "<text class=\"displacy-token\" fill=\"currentColor\" text-anchor=\"middle\" y=\"309.5\">\n",
       "    <tspan class=\"displacy-word\" fill=\"currentColor\" x=\"50\">There</tspan>\n",
       "    <tspan class=\"displacy-tag\" dy=\"2em\" fill=\"currentColor\" x=\"50\">ADV</tspan>\n",
       "</text>\n",
       "\n",
       "<text class=\"displacy-token\" fill=\"currentColor\" text-anchor=\"middle\" y=\"309.5\">\n",
       "    <tspan class=\"displacy-word\" fill=\"currentColor\" x=\"225\">is</tspan>\n",
       "    <tspan class=\"displacy-tag\" dy=\"2em\" fill=\"currentColor\" x=\"225\">VERB</tspan>\n",
       "</text>\n",
       "\n",
       "<text class=\"displacy-token\" fill=\"currentColor\" text-anchor=\"middle\" y=\"309.5\">\n",
       "    <tspan class=\"displacy-word\" fill=\"currentColor\" x=\"400\">mild</tspan>\n",
       "    <tspan class=\"displacy-tag\" dy=\"2em\" fill=\"currentColor\" x=\"400\">ADJ</tspan>\n",
       "</text>\n",
       "\n",
       "<text class=\"displacy-token\" fill=\"currentColor\" text-anchor=\"middle\" y=\"309.5\">\n",
       "    <tspan class=\"displacy-word\" fill=\"currentColor\" x=\"575\">subfalcine</tspan>\n",
       "    <tspan class=\"displacy-tag\" dy=\"2em\" fill=\"currentColor\" x=\"575\">NOUN</tspan>\n",
       "</text>\n",
       "\n",
       "<text class=\"displacy-token\" fill=\"currentColor\" text-anchor=\"middle\" y=\"309.5\">\n",
       "    <tspan class=\"displacy-word\" fill=\"currentColor\" x=\"750\">herniation.</tspan>\n",
       "    <tspan class=\"displacy-tag\" dy=\"2em\" fill=\"currentColor\" x=\"750\">NOUN</tspan>\n",
       "</text>\n",
       "\n",
       "<g class=\"displacy-arrow\">\n",
       "    <path class=\"displacy-arc\" id=\"arrow-66-0-0\" stroke-width=\"2px\" d=\"M70,264.5 C70,177.0 215.0,177.0 215.0,264.5\" fill=\"none\" stroke=\"currentColor\"/>\n",
       "    <text dy=\"1.25em\" style=\"font-size: 0.8em; letter-spacing: 1px\">\n",
       "        <textPath xlink:href=\"#arrow-66-0-0\" class=\"displacy-label\" startOffset=\"50%\" fill=\"currentColor\" text-anchor=\"middle\">expl</textPath>\n",
       "    </text>\n",
       "    <path class=\"displacy-arrowhead\" d=\"M70,266.5 L62,254.5 78,254.5\" fill=\"currentColor\"/>\n",
       "</g>\n",
       "\n",
       "<g class=\"displacy-arrow\">\n",
       "    <path class=\"displacy-arc\" id=\"arrow-66-0-1\" stroke-width=\"2px\" d=\"M420,264.5 C420,89.5 745.0,89.5 745.0,264.5\" fill=\"none\" stroke=\"currentColor\"/>\n",
       "    <text dy=\"1.25em\" style=\"font-size: 0.8em; letter-spacing: 1px\">\n",
       "        <textPath xlink:href=\"#arrow-66-0-1\" class=\"displacy-label\" startOffset=\"50%\" fill=\"currentColor\" text-anchor=\"middle\">amod</textPath>\n",
       "    </text>\n",
       "    <path class=\"displacy-arrowhead\" d=\"M420,266.5 L412,254.5 428,254.5\" fill=\"currentColor\"/>\n",
       "</g>\n",
       "\n",
       "<g class=\"displacy-arrow\">\n",
       "    <path class=\"displacy-arc\" id=\"arrow-66-0-2\" stroke-width=\"2px\" d=\"M595,264.5 C595,177.0 740.0,177.0 740.0,264.5\" fill=\"none\" stroke=\"currentColor\"/>\n",
       "    <text dy=\"1.25em\" style=\"font-size: 0.8em; letter-spacing: 1px\">\n",
       "        <textPath xlink:href=\"#arrow-66-0-2\" class=\"displacy-label\" startOffset=\"50%\" fill=\"currentColor\" text-anchor=\"middle\">amod</textPath>\n",
       "    </text>\n",
       "    <path class=\"displacy-arrowhead\" d=\"M595,266.5 L587,254.5 603,254.5\" fill=\"currentColor\"/>\n",
       "</g>\n",
       "\n",
       "<g class=\"displacy-arrow\">\n",
       "    <path class=\"displacy-arc\" id=\"arrow-66-0-3\" stroke-width=\"2px\" d=\"M245,264.5 C245,2.0 750.0,2.0 750.0,264.5\" fill=\"none\" stroke=\"currentColor\"/>\n",
       "    <text dy=\"1.25em\" style=\"font-size: 0.8em; letter-spacing: 1px\">\n",
       "        <textPath xlink:href=\"#arrow-66-0-3\" class=\"displacy-label\" startOffset=\"50%\" fill=\"currentColor\" text-anchor=\"middle\">attr</textPath>\n",
       "    </text>\n",
       "    <path class=\"displacy-arrowhead\" d=\"M750.0,266.5 L758.0,254.5 742.0,254.5\" fill=\"currentColor\"/>\n",
       "</g>\n",
       "</svg>"
      ],
      "text/plain": [
       "<IPython.core.display.HTML object>"
      ]
     },
     "metadata": {},
     "output_type": "display_data"
    }
   ],
   "source": [
    "print(sents[9])\n",
    "displacy.render(sents[9], style='dep', jupyter=True)"
   ]
  }
 ],
 "metadata": {
  "kernelspec": {
   "display_name": "Python 3",
   "language": "python",
   "name": "python3"
  },
  "language_info": {
   "codemirror_mode": {
    "name": "ipython",
    "version": 3
   },
   "file_extension": ".py",
   "mimetype": "text/x-python",
   "name": "python",
   "nbconvert_exporter": "python",
   "pygments_lexer": "ipython3",
   "version": "3.6.8"
  }
 },
 "nbformat": 4,
 "nbformat_minor": 2
}
